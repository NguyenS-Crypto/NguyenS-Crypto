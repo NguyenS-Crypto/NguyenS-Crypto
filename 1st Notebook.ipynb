{
    "cells": [
        {
            "cell_type": "code",
            "execution_count": 1,
            "metadata": {},
            "outputs": [
                {
                    "name": "stdout",
                    "output_type": "stream",
                    "text": "Hello Sang\n"
                }
            ],
            "source": "print('Hello Sang')"
        },
        {
            "cell_type": "code",
            "execution_count": 2,
            "metadata": {},
            "outputs": [
                {
                    "name": "stdout",
                    "output_type": "stream",
                    "text": "Gi\u00e1 tr\u1ecb c\u1ee7a x l\u00e0: 5\nGi\u00e1 tr\u1ecb c\u1ee7a x l\u00e0: 6\nGi\u00e1 tr\u1ecb c\u1ee7a x l\u00e0: 7\nGi\u00e1 tr\u1ecb c\u1ee7a x l\u00e0: 8\nGi\u00e1 tr\u1ecb c\u1ee7a x l\u00e0: 9\nGi\u00e1 tr\u1ecb c\u1ee7a x l\u00e0: 10\nGi\u00e1 tr\u1ecb c\u1ee7a x l\u00e0: 11\nGi\u00e1 tr\u1ecb c\u1ee7a x l\u00e0: 12\nGi\u00e1 tr\u1ecb c\u1ee7a x l\u00e0: 13\nGi\u00e1 tr\u1ecb c\u1ee7a x l\u00e0: 14\nGi\u00e1 tr\u1ecb c\u1ee7a x l\u00e0: 15\nGi\u00e1 tr\u1ecb c\u1ee7a x l\u00e0: 16\nGi\u00e1 tr\u1ecb c\u1ee7a x l\u00e0: 17\nGi\u00e1 tr\u1ecb c\u1ee7a x l\u00e0: 18\nGi\u00e1 tr\u1ecb c\u1ee7a x l\u00e0: 19\nAll done\n"
                }
            ],
            "source": "x = 5\nwhile x < 20:\n    print('Gi\u00e1 tr\u1ecb c\u1ee7a x l\u00e0:', x)\n    x = x + 1\nprint('All done')"
        },
        {
            "cell_type": "code",
            "execution_count": null,
            "metadata": {},
            "outputs": [],
            "source": ""
        }
    ],
    "metadata": {
        "kernelspec": {
            "display_name": "Python 3.7",
            "language": "python",
            "name": "python3"
        },
        "language_info": {
            "codemirror_mode": {
                "name": "ipython",
                "version": 3
            },
            "file_extension": ".py",
            "mimetype": "text/x-python",
            "name": "python",
            "nbconvert_exporter": "python",
            "pygments_lexer": "ipython3",
            "version": "3.7.10"
        }
    },
    "nbformat": 4,
    "nbformat_minor": 1
}